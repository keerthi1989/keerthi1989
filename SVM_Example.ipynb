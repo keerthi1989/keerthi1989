{
  "nbformat": 4,
  "nbformat_minor": 0,
  "metadata": {
    "colab": {
      "name": "SVM Example.ipynb",
      "provenance": [],
      "include_colab_link": true
    },
    "kernelspec": {
      "name": "python3",
      "display_name": "Python 3"
    },
    "language_info": {
      "name": "python"
    }
  },
  "cells": [
    {
      "cell_type": "markdown",
      "metadata": {
        "id": "view-in-github",
        "colab_type": "text"
      },
      "source": [
        "<a href=\"https://colab.research.google.com/github/keerthi1989/keerthi1989/blob/main/SVM_Example.ipynb\" target=\"_parent\"><img src=\"https://colab.research.google.com/assets/colab-badge.svg\" alt=\"Open In Colab\"/></a>"
      ]
    },
    {
      "cell_type": "code",
      "metadata": {
        "id": "DKoggyMuVH50"
      },
      "source": [
        "import warnings\n",
        "warnings.filterwarnings('ignore')"
      ],
      "execution_count": null,
      "outputs": []
    },
    {
      "cell_type": "code",
      "metadata": {
        "id": "Qr0GimAiVVat"
      },
      "source": [
        "import pandas as pd\n",
        "import numpy as np\n",
        "import matplotlib.pyplot as plt\n",
        "import seaborn as sns"
      ],
      "execution_count": null,
      "outputs": []
    },
    {
      "cell_type": "code",
      "metadata": {
        "id": "csSCy1PgVnOk"
      },
      "source": [
        "df = pd.read_csv(\"mobile.csv\")"
      ],
      "execution_count": null,
      "outputs": []
    },
    {
      "cell_type": "code",
      "metadata": {
        "id": "HvfTmswsVq0l"
      },
      "source": [
        "df.head()"
      ],
      "execution_count": null,
      "outputs": []
    },
    {
      "cell_type": "code",
      "metadata": {
        "id": "zvOOsiVlVr2x"
      },
      "source": [
        "# If the price of the mobile >= 400 - flagship phone - 1\n",
        "# price of mobile < 400 - budget phone - 0\n",
        "# Binary classification\n",
        "df.info()"
      ],
      "execution_count": null,
      "outputs": []
    },
    {
      "cell_type": "code",
      "metadata": {
        "id": "lks99MafWeoT"
      },
      "source": [
        "from sklearn.svm import LinearSVC, SVC\n",
        "from sklearn.model_selection import train_test_split"
      ],
      "execution_count": null,
      "outputs": []
    },
    {
      "cell_type": "code",
      "metadata": {
        "id": "B97sXcGUf8XK"
      },
      "source": [
        "x = df.drop(\"price_range\", axis=1)\n",
        "y = df['price_range']"
      ],
      "execution_count": null,
      "outputs": []
    },
    {
      "cell_type": "code",
      "metadata": {
        "id": "3x7NWD0ZgFbZ"
      },
      "source": [
        "x_train, x_test, y_train, y_test = train_test_split(x, y, test_size=0.3, stratify=y)"
      ],
      "execution_count": null,
      "outputs": []
    },
    {
      "cell_type": "code",
      "metadata": {
        "id": "b2VkBRD9gOq8"
      },
      "source": [
        "lsvc = LinearSVC()\n",
        "lsvc.fit(x_train, y_train)\n",
        "print(\"Bias = \", lsvc.score(x_train, y_train))\n",
        "print(\"Variance = \", lsvc.score(x_test, y_test))"
      ],
      "execution_count": null,
      "outputs": []
    },
    {
      "cell_type": "code",
      "metadata": {
        "id": "PqeTLPIzg6Jt"
      },
      "source": [
        "lsvc = LinearSVC(C=2)\n",
        "lsvc.fit(x_train, y_train)\n",
        "print(\"Bias = \", lsvc.score(x_train, y_train))\n",
        "print(\"Variance = \", lsvc.score(x_test, y_test))"
      ],
      "execution_count": null,
      "outputs": []
    },
    {
      "cell_type": "code",
      "metadata": {
        "id": "9VmhscdlhDQ2"
      },
      "source": [
        "lsvc = LinearSVC(C=0.5)\n",
        "lsvc.fit(x_train, y_train)\n",
        "print(\"Bias = \", lsvc.score(x_train, y_train))\n",
        "print(\"Variance = \", lsvc.score(x_test, y_test))"
      ],
      "execution_count": null,
      "outputs": []
    },
    {
      "cell_type": "code",
      "metadata": {
        "colab": {
          "base_uri": "https://localhost:8080/"
        },
        "id": "3ullg94lhJGb",
        "outputId": "acfa43ab-81cd-4ae6-8560-805b23b9b26d"
      },
      "source": [
        "lsvc = LinearSVC(C=4)\n",
        "lsvc.fit(x_train, y_train)\n",
        "print(\"Bias = \", lsvc.score(x_train, y_train))\n",
        "print(\"Variance = \", lsvc.score(x_test, y_test))"
      ],
      "execution_count": null,
      "outputs": [
        {
          "output_type": "stream",
          "text": [
            "Bias =  0.8764285714285714\n",
            "Variance =  0.8783333333333333\n"
          ],
          "name": "stdout"
        }
      ]
    },
    {
      "cell_type": "code",
      "metadata": {
        "colab": {
          "base_uri": "https://localhost:8080/"
        },
        "id": "1FTiyP_ahNIo",
        "outputId": "d00a4e0b-276c-4bd7-de21-4177e44eea54"
      },
      "source": [
        "psvc = SVC(kernel=\"poly\")\n",
        "psvc.fit(x_train, y_train)\n",
        "print(\"Bias = \", psvc.score(x_train, y_train))\n",
        "print(\"Variance = \", psvc.score(x_test, y_test))"
      ],
      "execution_count": null,
      "outputs": [
        {
          "output_type": "stream",
          "text": [
            "Bias =  0.9857142857142858\n",
            "Variance =  0.985\n"
          ],
          "name": "stdout"
        }
      ]
    },
    {
      "cell_type": "code",
      "metadata": {
        "colab": {
          "base_uri": "https://localhost:8080/"
        },
        "id": "8rXBLHT8hdbP",
        "outputId": "708da2f4-b265-4ab4-afe9-26f9f78d3428"
      },
      "source": [
        "psvc = SVC(kernel=\"poly\", C=4)\n",
        "psvc.fit(x_train, y_train)\n",
        "print(\"Bias = \", psvc.score(x_train, y_train))\n",
        "print(\"Variance = \", psvc.score(x_test, y_test))"
      ],
      "execution_count": null,
      "outputs": [
        {
          "output_type": "stream",
          "text": [
            "Bias =  0.9892857142857143\n",
            "Variance =  0.9866666666666667\n"
          ],
          "name": "stdout"
        }
      ]
    },
    {
      "cell_type": "code",
      "metadata": {
        "colab": {
          "base_uri": "https://localhost:8080/"
        },
        "id": "flfF0cZdhhp6",
        "outputId": "2e50536b-5e05-4882-95fe-bcd3dc549fb8"
      },
      "source": [
        "rsvc = SVC(kernel=\"rbf\")\n",
        "rsvc.fit(x_train, y_train)\n",
        "print(\"Bias = \", rsvc.score(x_train, y_train))\n",
        "print(\"Variance = \", rsvc.score(x_test, y_test))"
      ],
      "execution_count": null,
      "outputs": [
        {
          "output_type": "stream",
          "text": [
            "Bias =  0.9814285714285714\n",
            "Variance =  0.9833333333333333\n"
          ],
          "name": "stdout"
        }
      ]
    },
    {
      "cell_type": "code",
      "metadata": {
        "colab": {
          "base_uri": "https://localhost:8080/"
        },
        "id": "b095zmtPhnj2",
        "outputId": "61b3e318-9da2-4d40-9c6c-a6c820d8b26f"
      },
      "source": [
        "rsvc = SVC(kernel=\"rbf\", C=4)\n",
        "rsvc.fit(x_train, y_train)\n",
        "print(\"Bias = \", rsvc.score(x_train, y_train))\n",
        "print(\"Variance = \", rsvc.score(x_test, y_test))"
      ],
      "execution_count": null,
      "outputs": [
        {
          "output_type": "stream",
          "text": [
            "Bias =  0.985\n",
            "Variance =  0.9833333333333333\n"
          ],
          "name": "stdout"
        }
      ]
    },
    {
      "cell_type": "code",
      "metadata": {
        "id": "9HaE_Ih-hrA9"
      },
      "source": [
        ""
      ],
      "execution_count": null,
      "outputs": []
    }
  ]
}